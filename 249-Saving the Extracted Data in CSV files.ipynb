{
 "cells": [
  {
   "cell_type": "code",
   "execution_count": 2,
   "id": "702e1636",
   "metadata": {},
   "outputs": [],
   "source": [
    "import requests\n",
    "\n",
    "from bs4 import BeautifulSoup\n",
    "\n",
    "r=requests.get(\"http://century21.com/real-estate/rock-springs-wy/LCWYROCKSPRINGS/\") \n",
    "c=r.content\n",
    "\n",
    "soup=BeautifulSoup(c,\"html.parser\")\n",
    "\n",
    "all=soup.find_all(\"div\",{\"class\":\"infinite-item\"}) \n",
    "\n",
    "# all[0].find(\"a\",{\"class\":\"listing-price\"}).text.replace(\"\\n\",\"\").replace(\" \",\"\") "
   ]
  },
  {
   "cell_type": "code",
   "execution_count": 8,
   "id": "417c72f6",
   "metadata": {
    "scrolled": true
   },
   "outputs": [
    {
     "name": "stdout",
     "output_type": "stream",
     "text": [
      " \n",
      " \n",
      "None\n",
      " \n",
      " \n",
      " \n",
      "None\n",
      " \n",
      "None\n",
      "None\n",
      "None\n",
      "None\n",
      "None\n",
      " \n"
     ]
    }
   ],
   "source": [
    "l=[]\n",
    "for item in all:\n",
    "    d={}\n",
    "    try:\n",
    "            d[\"Address\"]=item.find(\"div\",{\"class\":\"property-address\"}).text.replace(\"\\n\",\"\").replace(\" \",\"\")\n",
    "    except:\n",
    "            print(None)\n",
    "            \n",
    "    try:\n",
    "            d[\"Price\"]=item.find(\"a\",{\"class\":\"listing-price\"}).text.replace(\"\\n\",\"\").replace(\" \",\"\")\n",
    "    except:\n",
    "            print(None)\n",
    "            \n",
    "    try:       \n",
    "            d[\"Beds\"]=item.find(\"div\",{\"class\":\"property-beds\"}).find(\"strong\").text\n",
    "    except:\n",
    "            print(None)\n",
    "            \n",
    "    try: \n",
    "            d[\"Baths\"]=item.find(\"div\",{\"class\":\"property-baths\"}).find(\"strong\").text\n",
    "    except:\n",
    "            print(None)       \n",
    "            \n",
    "    try:        \n",
    "            d[\"Half-baths\"]=item.find(\"div\",{\"class\":\"property-half-baths\"}).find(\"strong\").text\n",
    "    except:\n",
    "            print(None)\n",
    "    print(\" \")\n",
    "    \n",
    "    l.append(d)         #将创建的dictionary 加入到library中\n"
   ]
  },
  {
   "cell_type": "code",
   "execution_count": 13,
   "id": "2447b060",
   "metadata": {},
   "outputs": [],
   "source": [
    "import pandas                           #通过pandas创建数据表\n",
    "df=pandas.DataFrame(l)"
   ]
  },
  {
   "cell_type": "code",
   "execution_count": 15,
   "id": "d790f07e",
   "metadata": {
    "scrolled": true
   },
   "outputs": [
    {
     "data": {
      "text/html": [
       "<div>\n",
       "<style scoped>\n",
       "    .dataframe tbody tr th:only-of-type {\n",
       "        vertical-align: middle;\n",
       "    }\n",
       "\n",
       "    .dataframe tbody tr th {\n",
       "        vertical-align: top;\n",
       "    }\n",
       "\n",
       "    .dataframe thead th {\n",
       "        text-align: right;\n",
       "    }\n",
       "</style>\n",
       "<table border=\"1\" class=\"dataframe\">\n",
       "  <thead>\n",
       "    <tr style=\"text-align: right;\">\n",
       "      <th></th>\n",
       "      <th>Address</th>\n",
       "      <th>Price</th>\n",
       "      <th>Beds</th>\n",
       "      <th>Baths</th>\n",
       "      <th>Half-baths</th>\n",
       "    </tr>\n",
       "  </thead>\n",
       "  <tbody>\n",
       "    <tr>\n",
       "      <th>0</th>\n",
       "      <td>6108WildBuffaloFoothillBlvd.</td>\n",
       "      <td>$184,900</td>\n",
       "      <td>3</td>\n",
       "      <td>3</td>\n",
       "      <td>1</td>\n",
       "    </tr>\n",
       "    <tr>\n",
       "      <th>1</th>\n",
       "      <td>2401LittleMoonTrail</td>\n",
       "      <td>$179,900</td>\n",
       "      <td>3</td>\n",
       "      <td>2</td>\n",
       "      <td>1</td>\n",
       "    </tr>\n",
       "    <tr>\n",
       "      <th>2</th>\n",
       "      <td>1307W2ndSt</td>\n",
       "      <td>$139,000</td>\n",
       "      <td>3</td>\n",
       "      <td>1</td>\n",
       "      <td>NaN</td>\n",
       "    </tr>\n",
       "    <tr>\n",
       "      <th>3</th>\n",
       "      <td>344PStreet</td>\n",
       "      <td>$245,000</td>\n",
       "      <td>3</td>\n",
       "      <td>1</td>\n",
       "      <td>1</td>\n",
       "    </tr>\n",
       "    <tr>\n",
       "      <th>4</th>\n",
       "      <td>420Soulsby</td>\n",
       "      <td>$225,000</td>\n",
       "      <td>5</td>\n",
       "      <td>1</td>\n",
       "      <td>1</td>\n",
       "    </tr>\n",
       "    <tr>\n",
       "      <th>5</th>\n",
       "      <td>1014PilotButteAve</td>\n",
       "      <td>Ask</td>\n",
       "      <td>2</td>\n",
       "      <td>1</td>\n",
       "      <td>NaN</td>\n",
       "    </tr>\n",
       "    <tr>\n",
       "      <th>6</th>\n",
       "      <td>NaN</td>\n",
       "      <td>NaN</td>\n",
       "      <td>NaN</td>\n",
       "      <td>NaN</td>\n",
       "      <td>NaN</td>\n",
       "    </tr>\n",
       "  </tbody>\n",
       "</table>\n",
       "</div>"
      ],
      "text/plain": [
       "                        Address     Price Beds Baths Half-baths\n",
       "0  6108WildBuffaloFoothillBlvd.  $184,900    3     3          1\n",
       "1           2401LittleMoonTrail  $179,900    3     2          1\n",
       "2                    1307W2ndSt  $139,000    3     1        NaN\n",
       "3                    344PStreet  $245,000    3     1          1\n",
       "4                    420Soulsby  $225,000    5     1          1\n",
       "5             1014PilotButteAve       Ask    2     1        NaN\n",
       "6                           NaN       NaN  NaN   NaN        NaN"
      ]
     },
     "execution_count": 15,
     "metadata": {},
     "output_type": "execute_result"
    }
   ],
   "source": [
    "df"
   ]
  },
  {
   "cell_type": "code",
   "execution_count": 21,
   "id": "7452ca86",
   "metadata": {},
   "outputs": [],
   "source": [
    "df.to_csv(\"Output.csv\")"
   ]
  }
 ],
 "metadata": {
  "kernelspec": {
   "display_name": "Python 3",
   "language": "python",
   "name": "python3"
  },
  "language_info": {
   "codemirror_mode": {
    "name": "ipython",
    "version": 3
   },
   "file_extension": ".py",
   "mimetype": "text/x-python",
   "name": "python",
   "nbconvert_exporter": "python",
   "pygments_lexer": "ipython3",
   "version": "3.9.2"
  }
 },
 "nbformat": 4,
 "nbformat_minor": 5
}
